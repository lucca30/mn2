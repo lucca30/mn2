{
 "cells": [
  {
   "cell_type": "code",
   "execution_count": 3,
   "metadata": {},
   "outputs": [],
   "source": [
    "import numpy as np\n",
    "\n",
    "from ipywidgets import Image\n",
    "\n",
    "from ipywidgets import ColorPicker, IntSlider, link, AppLayout, HBox\n",
    "\n",
    "from ipycanvas import MultiCanvas, hold_canvas\n",
    "\n",
    "import matplotlib.pyplot as plt\n",
    "\n",
    "import math\n",
    "\n",
    "import imageio\n",
    "\n",
    "import numpy as np\n",
    "import matplotlib.cm as cm\n",
    "import matplotlib.pylab as plt\n"
   ]
  },
  {
   "cell_type": "code",
   "execution_count": 4,
   "metadata": {},
   "outputs": [],
   "source": [
    "im_size = 450\n",
    "\n",
    "def make_c(N):\n",
    "    C = np.zeros( (N, N) )\n",
    "    for u in range(N):\n",
    "        for v in range(N):\n",
    "            if(u==0):\n",
    "                C[u][v] = math.sqrt(1/float(N))\n",
    "            else:\n",
    "                C[u][v] = math.sqrt(2/float(N)) * math.cos( ((2*v + 1) * math.pi * u) / (2* float(N)) )\n",
    "    return C\n",
    "\n",
    "def transformar_imagem(imagem, C):\n",
    "    return np.dot(np.dot(C, imagem), C.transpose())\n",
    "\n",
    "def inverter_imagem(imagem, C):\n",
    "    return np.dot(np.dot(C.transpose(), imagem), C)\n",
    "\n",
    "# retorna os N primeiros pixeis da imagem\n",
    "def reduzir_imagem(imagem_transformada, N):\n",
    "    count = 0\n",
    "    res = np.zeros( imagem_transformada.shape )\n",
    "    for x in range(imagem_transformada.shape[1]):\n",
    "        i = 0\n",
    "        j = x\n",
    "        while (True):\n",
    "            res[i][j] = imagem_transformada[i][j]\n",
    "            i += 1\n",
    "            j -= 1\n",
    "            count+=1\n",
    "            if(count == N):\n",
    "                return res\n",
    "            if(j < 0 or i >= imagem_transformada.shape[0]):\n",
    "                break"
   ]
  },
  {
   "cell_type": "code",
   "execution_count": 5,
   "metadata": {},
   "outputs": [
    {
     "data": {
      "image/png": "[encoded data removed]",
      "text/plain": [
       "<Figure size 432x288 with 1 Axes>"
      ]
     },
     "metadata": {
      "needs_background": "light"
     },
     "output_type": "display_data"
    }
   ],
   "source": [
    "N_corte = 100\n",
    "def plotar_imagem_com_N_pixeis(N_corte):\n",
    "    C = make_c(im_size)\n",
    "\n",
    "    im = imageio.imread('gato_cortado.jpg')\n",
    "\n",
    "\n",
    "    im_transformada = transformar_imagem(im, C)\n",
    "    im_ = reduzir_imagem(im_transformada,N_corte)\n",
    "\n",
    "    im_back = inverter_imagem(im_, C)\n",
    "\n",
    "\n",
    "    fig, ax = plt.subplots(1)\n",
    "    ax.imshow(im_back, interpolation='nearest', cmap=cm.gray, vmin=0, vmax=255)\n",
    "    ax.text(10, 25, str(N_corte).rjust(6), bbox={'facecolor': 'white', 'pad': 5})\n",
    "\n",
    "plotar_imagem_com_N_pixeis(N_corte)    \n",
    "plt.show()\n"
   ]
  },
  {
   "cell_type": "code",
   "execution_count": 7,
   "metadata": {},
   "outputs": [
    {
     "data": {
      "text/plain": [
       "\"\\nlista = [1, 2, 5, 10, 20]\\nlista.extend( [i*30 for i in range(1, 11)] )\\nlista.extend( [i*100 for i in range(4, 11)] )\\nlista.extend( [i*200 for i in range(6, 21)] )\\nfor i in lista:\\n    plotar_imagem_com_N_pixeis(i) \\n    plt.savefig('imagens_gif/im' + str(i) + '.png')\\n    \\n\""
      ]
     },
     "execution_count": 7,
     "metadata": {},
     "output_type": "execute_result"
    }
   ],
   "source": [
    "# script para criar o gif, descomente para executá-lo\n",
    "'''\n",
    "lista = [1, 2, 5, 10, 20]\n",
    "lista.extend( [i*30 for i in range(1, 11)] )\n",
    "lista.extend( [i*100 for i in range(4, 11)] )\n",
    "lista.extend( [i*200 for i in range(6, 21)] )\n",
    "for i in lista:\n",
    "    plotar_imagem_com_N_pixeis(i) \n",
    "    plt.savefig('imagens_gif/im' + str(i) + '.png')\n",
    "    \n",
    "'''\n"
   ]
  },
  {
   "cell_type": "code",
   "execution_count": 157,
   "metadata": {},
   "outputs": [],
   "source": []
  },
  {
   "cell_type": "code",
   "execution_count": 159,
   "metadata": {},
   "outputs": [],
   "source": [
    "a.extend([3, 4, 5])"
   ]
  },
  {
   "cell_type": "code",
   "execution_count": 171,
   "metadata": {},
   "outputs": [
    {
     "data": {
      "text/plain": [
       "[1,\n",
       " 2,\n",
       " 5,\n",
       " 10,\n",
       " 20,\n",
       " 30,\n",
       " 60,\n",
       " 90,\n",
       " 120,\n",
       " 150,\n",
       " 180,\n",
       " 210,\n",
       " 240,\n",
       " 270,\n",
       " 300,\n",
       " 400,\n",
       " 500,\n",
       " 600,\n",
       " 700,\n",
       " 800,\n",
       " 900,\n",
       " 1000,\n",
       " 1200,\n",
       " 1400,\n",
       " 1600,\n",
       " 1800,\n",
       " 2000,\n",
       " 2200,\n",
       " 2400,\n",
       " 2600,\n",
       " 2800,\n",
       " 3000,\n",
       " 3200,\n",
       " 3400,\n",
       " 3600,\n",
       " 3800,\n",
       " 4000]"
      ]
     },
     "execution_count": 171,
     "metadata": {},
     "output_type": "execute_result"
    }
   ],
   "source": [
    "\n"
   ]
  },
  {
   "cell_type": "code",
   "execution_count": null,
   "metadata": {},
   "outputs": [],
   "source": []
  },
  {
   "cell_type": "code",
   "execution_count": null,
   "metadata": {},
   "outputs": [],
   "source": []
  }
 ],
 "metadata": {
  "kernelspec": {
   "display_name": "Python 3",
   "language": "python",
   "name": "python3"
  },
  "language_info": {
   "codemirror_mode": {
    "name": "ipython",
    "version": 3
   },
   "file_extension": ".py",
   "mimetype": "text/x-python",
   "name": "python",
   "nbconvert_exporter": "python",
   "pygments_lexer": "ipython3",
   "version": "3.7.3"
  }
 },
 "nbformat": 4,
 "nbformat_minor": 2
}
