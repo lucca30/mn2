{
 "cells": [
  {
   "cell_type": "markdown",
   "metadata": {},
   "source": [
    "# Relatório\n",
    "\n",
    "Esse notebook será utilizado apenas para escrever o relatório final da disciplina de Métodos Numéricos 2. Assim sendo, durante o relatório encorajarei vocês a acompanharem o código deles. No entanto, prometo trazer uma abordagem visual por aqui."
   ]
  },
  {
   "cell_type": "markdown",
   "metadata": {},
   "source": [
    "# Introdução\n",
    "\n",
    "O tema escolhido por mim / sugerido pelo professor João foram as Transformadas Discretas de Cosseno. Como sou muito mais interessado na perspectiva prática das coisas, irei abordar o tema num ponto de vista muito mais voltado para a prática.\n",
    "Dessa forma, usarei essas transformadas como pano de fundo para apresentar exatamente como é feita a compressão de imagens no formato JPEG.\n",
    "\n",
    "# Motivação\n",
    "\n",
    "Antes de mais nada, pedi ao professor que o tema do trabalho fosse algo com processamento de sinal pois é uma área que nunca havia trabalhado antes (diferentemente de imagens). No entanto, para minha surpresa não pude evitar de trabalhar diretamente com imagens! Então a primeira coisa que fiz com o tópico do trabalho em mãos foi fazer uma análise no potencial do formato de compressão JPEG. Para isso, salvei a imagem abaixo em dois formatos: BitMap e JPG. \n",
    "\n",
    "Incrivelmente, enquanto a imagem em BitMap ocupava 1.039.330 bytes a imagem em JPG ocupava 41.911 bytes. O que significa uma redução em quase 25 vezes o tamanho.\n"
   ]
  },
  {
   "cell_type": "markdown",
   "metadata": {},
   "source": [
    "![caption](gato.jpg)"
   ]
  },
  {
   "cell_type": "markdown",
   "metadata": {},
   "source": [
    "# Transformadas\n",
    "\n",
    "Brevemente, transformadas são operações que visam **transformar** um domínio A em B de tal forma que, no caso geral, é de nosso interesse fazer algum tipo de operação em B e que depois possamos retornar para o domínio A.\n",
    "\n",
    "\n",
    "Um ótimo exemplo pra isso seria o seguinte jogo:\n",
    "- Dois jogadores vão alteranando na escolhas de números de 1 a 10, sem repetição de números.\n",
    "- Ganha aquele que, dentro do seu conjunto de escolhas, possuir um subconjunto de 3 números que somem 15.\n",
    "\n",
    "A princípio, parece um jogo que requer muita atenção do jogador. No entanto, o problema está no fato que os jogadores estão olhando para o problema no domínio errado. Se, por exemplo, um dos jogadores utilizasse a tabela da imagem abaixo e jogasse como se a escolha dos números fosse um jogo da velha, com certeza ele teria um esforço muito menor para ganhar o jogo.\n",
    "\n",
    "Ou seja, apenas transformando o seu domínio para um outro mais semântico o jogador precisa gastar muito menos os seus neurônios pois a tabela já carrega muito significado."
   ]
  },
  {
   "cell_type": "markdown",
   "metadata": {},
   "source": [
    "![caption](tabuleiro.jpg)"
   ]
  },
  {
   "cell_type": "markdown",
   "metadata": {},
   "source": [
    "# Transformadas Discretas de Cosseno\n",
    "\n",
    "Agora que estamos com as transformadas introduzidas, podemos fazer uma síntese em poucas palavras do que é essa transformada. Assim sendo:\n",
    "\n",
    "\"A Transformada de Cossenos Discreta nada mais é do que o mapeamento de valores em função da soma de várias fatias de cosseno com diferentes frequências.\"\n",
    "\n",
    "Espero que essa frase não tenha feito muito sentido nesse começo, pois ainda temos que trabalhar essa ideia e tornar claro seu significado.\n",
    "\n",
    "## A operação da Transformada\n",
    "\n",
    "Antes de entendermos qualquer tipo de detalhe, pularemos para o final, ou seja, a transformada em si e depois voltamos explicando nos detalhes.\n",
    "\n",
    "Queremos pegar uma matriz $A$, transformá-la e depois sermos capaz de reverter essa opeação transformando-a novamente em $A$. Para isso, precisamos criar apenas uma matriz $C$ que é a tal matriz com as várias \"fatias de cossenos com diferentes frequências\".\n",
    "\n",
    "Mais pra frente explicaremos sobre, mas essa matriz $C$ tem a interessante propriedade de que $C^{T} = C^{-1}$\n",
    "\n",
    "\n",
    "### Transformar\n",
    "\n",
    "Para transformarmos a matriz $A$ em uma imagem no domínio de cossenos $M$, basta apenas que $$M = CAC^{T}$$\n",
    "\n",
    "\n",
    "### Reverter\n",
    "\n",
    "Já para reverter, basta apenas abusar do fato de que $C^{T} = C^{-1}$ $$C^{T}CAC^{T}C$$ $$IAI = A$$ $$A = C^{T}MC$$\n"
   ]
  },
  {
   "cell_type": "markdown",
   "metadata": {},
   "source": [
    "## Fatias de Cosseno"
   ]
  },
  {
   "cell_type": "markdown",
   "metadata": {},
   "source": [
    "![caption](gato.gif)"
   ]
  },
  {
   "cell_type": "markdown",
   "metadata": {},
   "source": [
    "![caption](cossenos.gif)"
   ]
  },
  {
   "cell_type": "code",
   "execution_count": null,
   "metadata": {},
   "outputs": [],
   "source": []
  },
  {
   "cell_type": "code",
   "execution_count": null,
   "metadata": {},
   "outputs": [],
   "source": []
  }
 ],
 "metadata": {
  "kernelspec": {
   "display_name": "Python 3",
   "language": "python",
   "name": "python3"
  },
  "language_info": {
   "codemirror_mode": {
    "name": "ipython",
    "version": 3
   },
   "file_extension": ".py",
   "mimetype": "text/x-python",
   "name": "python",
   "nbconvert_exporter": "python",
   "pygments_lexer": "ipython3",
   "version": "3.7.3"
  }
 },
 "nbformat": 4,
 "nbformat_minor": 2
}
