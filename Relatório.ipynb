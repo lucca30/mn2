{
 "cells": [
  {
   "cell_type": "markdown",
   "metadata": {},
   "source": [
    "# Relatório\n",
    "\n",
    "Esse notebook será utilizado apenas para escrever o relatório final da disciplina de Métodos Numéricos 2. Assim sendo, durante o relatório encorajarei vocês a acompanharem o código deles. No entanto, prometo trazer uma abordagem visual por aqui."
   ]
  },
  {
   "cell_type": "markdown",
   "metadata": {},
   "source": [
    "# Introdução\n",
    "\n",
    "O tema escolhido por mim / sugerido pelo professor João foram as Transformadas Discretas de Cosseno. Como sou muito mais interessado na perspectiva prática das coisas, irei abordar o tema num ponto de vista muito mais voltado para a prática.\n",
    "Dessa forma, usarei essas transformadas como pano de fundo para apresentar exatamente como é feita a compressão de imagens no formato JPEG.\n",
    "\n",
    "# Motivação\n",
    "\n",
    "Antes de mais nada, pedi ao professor que o tema do trabalho fosse algo com processamento de sinal pois é uma área que nunca havia trabalhado antes (diferentemente de imagens). No entanto, para minha surpresa não pude evitar de trabalhar diretamente com imagens! Então a primeira coisa que fiz com o tópico do trabalho em mãos foi fazer uma análise no potencial do formato de compressão JPEG. Para isso, salvei a imagem abaixo em dois formatos: BitMap e JPG. \n",
    "\n",
    "Incrivelmente, enquanto a imagem em BitMap ocupava 1.039.330 bytes a imagem em JPG ocupava 41.911 bytes. O que significa uma redução em quase 25 vezes o tamanho.\n"
   ]
  },
  {
   "cell_type": "markdown",
   "metadata": {},
   "source": [
    "![caption](gato.jpg)"
   ]
  },
  {
   "cell_type": "markdown",
   "metadata": {},
   "source": [
    "# Transformadas\n",
    "\n",
    "Brevemente, transformadas são operações que visam **transformar** um domínio A em B de tal forma que, no caso geral, é de nosso interesse fazer algum tipo de operação em B e que depois possamos retornar para o domínio A.\n",
    "\n",
    "\n",
    "Um ótimo exemplo pra isso seria o seguinte jogo:\n",
    "- Dois jogadores vão alteranando na escolhas de números de 1 a 10, sem repetição de números.\n",
    "- Ganha aquele que, dentro do seu conjunto de escolhas, possuir um subconjunto de 3 números que somem 15.\n",
    "\n",
    "A princípio, parece um jogo que requer muita atenção do jogador. No entanto, o problema está no fato que os jogadores estão olhando para o problema no domínio errado. Se, por exemplo, um dos jogadores utilizasse a tabela da imagem abaixo e jogasse como se a escolha dos números fosse um jogo da velha, com certeza ele teria um esforço muito menor para ganhar o jogo.\n",
    "\n",
    "Ou seja, apenas transformando o seu domínio para um outro mais semântico o jogador precisa gastar muito menos os seus neurônios pois a tabela já carrega muito significado."
   ]
  },
  {
   "cell_type": "markdown",
   "metadata": {},
   "source": [
    "![caption](tabuleiro.jpg)"
   ]
  },
  {
   "cell_type": "markdown",
   "metadata": {},
   "source": [
    "# Transformadas Discretas de Cosseno\n",
    "\n",
    "Agora que estamos com as transformadas introduzidas, podemos fazer uma síntese em poucas palavras do que é essa transformada. Assim sendo:\n",
    "\n",
    "\"A Transformada de Cossenos Discreta nada mais é do que o mapeamento de valores em função da soma de várias fatias de cosseno com diferentes frequências.\"\n",
    "\n",
    "Espero que essa frase não tenha feito muito sentido nesse começo, pois ainda temos que trabalhar essa ideia e tornar claro seu significado.\n",
    "\n",
    "## A operação da Transformada\n",
    "\n",
    "Antes de entendermos qualquer tipo de detalhe, pularemos para o final, ou seja, a transformada em si e depois voltamos explicando nos detalhes.\n",
    "\n",
    "Queremos pegar uma matriz $A$, transformá-la e depois sermos capaz de reverter essa opeação transformando-a novamente em $A$. Para isso, precisamos criar apenas uma matriz $C$ que é a tal matriz com as várias \"fatias de cossenos com diferentes frequências\".\n",
    "\n",
    "Mais pra frente explicaremos sobre, mas essa matriz $C$ tem a interessante propriedade de que $C^{T} = C^{-1}$\n",
    "\n",
    "\n",
    "### Transformar\n",
    "\n",
    "Para transformarmos a matriz $A$ em uma imagem no domínio de cossenos $M$, basta apenas que $$M = CAC^{T}$$\n",
    "\n",
    "\n",
    "### Reverter\n",
    "\n",
    "Já para reverter, basta apenas abusar do fato de que $C^{T} = C^{-1}$ $$C^{T}CAC^{T}C$$ $$IAI = A$$ $$A = C^{T}MC$$\n"
   ]
  },
  {
   "cell_type": "markdown",
   "metadata": {},
   "source": [
    "## Fatias de Cosseno\n",
    "\n",
    "Para discretizar uma função cosseno, o que faremos nada mais será do que pegar amostras da função em certos pontos. E, basicamente assim que construída cada um dos vetores que compõem a base de cossenos da matriz $C$. A imagem a seguir é apenas uma ilustração da captura de 7 pontos para a construção de um vetor."
   ]
  },
  {
   "cell_type": "markdown",
   "metadata": {},
   "source": [
    "![caption](fatiacos.png)"
   ]
  },
  {
   "cell_type": "markdown",
   "metadata": {},
   "source": [
    "A seguir você pode ver a fórmula para a construção de cada posição $i,j$ da matriz "
   ]
  },
  {
   "cell_type": "markdown",
   "metadata": {},
   "source": [
    "\\begin{cases} \n",
    "  \\frac{1}{N} & i= 0 \\\\\n",
    "  \\sqrt{ \\frac{2}{N} } cos(\\frac{(2i+1)\\pi j}{2N}) & i\\neq 0 \\\\\n",
    "\\end{cases}\n",
    "\n"
   ]
  },
  {
   "cell_type": "markdown",
   "metadata": {},
   "source": [
    "## Máscaras Bidimensionais de cosseno\n",
    "\n",
    "Agora que temos noção de como é construída a base de cossenos, temos que entender o que acontece na matriz $A$ ao se transformar na matriz $M$ e qual o motivo de conseguirmos comprimir $M$ facilmente. Coisa que não somos capazes de fazer em $A$.\n",
    "\n",
    "Para isso, convido a todos que estejam lendo para que rodem o Notebook Júpiter chama \"DCT Interactive\". Nele desenvolvi um mini canvas interativo onde você é capaz de alterar a matriz $M$ e enxergar diretamente o resultado.\n",
    "\n",
    "Assim que abrimos o notebook, nos deparamos com a imagem abaixo. Nela vemos 3 quadros, no primeiro a imagem original, na segunda M e na última a inversão da matriz M novamente ao domínio original. O que mais chama a atenção é o fato de quase todos os pixeis que não estão próximos do canto superior esquerdo possuem valores extramamente próximos de zero. Dessa forma, pode-se entender que boa parte do significado semântico da matriz M está concentrado no canto superior esquerdo da matriz e que, se deletássemos os resto, não perderíamos tanta informação (que se traduz em qualidade na imagem)."
   ]
  },
  {
   "cell_type": "markdown",
   "metadata": {},
   "source": [
    "![caption](dct_inter_original.png)"
   ]
  },
  {
   "cell_type": "markdown",
   "metadata": {},
   "source": [
    "Para provar que, de fato, é no canto superior direito que temos a maior parte do significado da imagem, observem a alteração que fiz na matriz $M$ logo abaixo:"
   ]
  },
  {
   "cell_type": "markdown",
   "metadata": {},
   "source": [
    "![caption](dct_inter_mexido.png)"
   ]
  },
  {
   "cell_type": "markdown",
   "metadata": {},
   "source": [
    "Apenas zerando uma parte ínfima dos pixeis já perdemos muitos detalhes da imagem do gato, sobrando apenas algumas silhuetas.\n",
    "\n",
    "Tentando entender melhor o que de fato acontece nessa transformação de volta da matriz $M$ para $A$, decidi zerar completamente a matriz M e apenas \"acender\" pixel por vez para que visse a imagem resultante. Assim, conseguiremos entender exatamente qual é a cara de cada uma das máscaras que compõem a imagem.\n",
    "\n",
    "Na animação a seguir, a legenda indica a posição $i, j$ que foi \"acendida\" e a imagem é exatamente a matriz $M$ sofrendo inversão."
   ]
  },
  {
   "cell_type": "markdown",
   "metadata": {},
   "source": [
    "![caption](cossenos.gif)"
   ]
  },
  {
   "cell_type": "markdown",
   "metadata": {},
   "source": [
    "Fica claro, a partir dessa animação, que cada um dos pixeis de M representa uma máscara que é uma malha de cossenos. Cada uma dessas malhas, somadas em conjunto, forma a imagem que temos. Além disso, quanto mais próximo do canto superior esquerdo, menor é a frequência das ondas de cosseno. E disso podemos concluir que para construir uma imagem não precisamos de malhas com altas frequências, na verdade com apenas poucas malhas de cosseno com baixa frequência já é possível construir a imagem."
   ]
  },
  {
   "cell_type": "markdown",
   "metadata": {},
   "source": [
    "Para finalizar, construí mais uma animação na qual, utilizo apenas os $K$ primeiros pixeis da matriz $M$, no entanto, para pegar essas pixeis iterei pela diagonal, conforme na imagem a seguir:"
   ]
  },
  {
   "cell_type": "markdown",
   "metadata": {},
   "source": [
    "![caption](diag.png)"
   ]
  },
  {
   "cell_type": "markdown",
   "metadata": {},
   "source": [
    "Com isso, podemos ver que com apenas o valor dos 4.000 primeios pixeis já temos informção suficiente para construir uma imagem suficiente próxima da orignal, no entanto, sem ter que armazenar um total de 202.500 pixeis."
   ]
  },
  {
   "cell_type": "markdown",
   "metadata": {},
   "source": [
    "![caption](gato.gif)"
   ]
  },
  {
   "cell_type": "code",
   "execution_count": null,
   "metadata": {},
   "outputs": [],
   "source": []
  }
 ],
 "metadata": {
  "kernelspec": {
   "display_name": "Python 3",
   "language": "python",
   "name": "python3"
  },
  "language_info": {
   "codemirror_mode": {
    "name": "ipython",
    "version": 3
   },
   "file_extension": ".py",
   "mimetype": "text/x-python",
   "name": "python",
   "nbconvert_exporter": "python",
   "pygments_lexer": "ipython3",
   "version": "3.7.3"
  }
 },
 "nbformat": 4,
 "nbformat_minor": 2
}
